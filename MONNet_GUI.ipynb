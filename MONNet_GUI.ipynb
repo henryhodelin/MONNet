{
 "cells": [
  {
   "cell_type": "code",
   "execution_count": 1,
   "id": "1d5b4547",
   "metadata": {},
   "outputs": [],
   "source": [
    "import os"
   ]
  },
  {
   "cell_type": "code",
   "execution_count": null,
   "id": "e7faa0e2",
   "metadata": {},
   "outputs": [
    {
     "name": "stderr",
     "output_type": "stream",
     "text": [
      "2022-04-21 14:52:06.152 NumExpr defaulting to 8 threads.\n",
      "2022-04-21 14:52:09.086284: W tensorflow/stream_executor/platform/default/dso_loader.cc:64] Could not load dynamic library 'libcudart.so.11.0'; dlerror: libcudart.so.11.0: cannot open shared object file: No such file or directory\n",
      "2022-04-21 14:52:09.086322: I tensorflow/stream_executor/cuda/cudart_stub.cc:29] Ignore above cudart dlerror if you do not have a GPU set up on your machine.\n"
     ]
    },
    {
     "name": "stdout",
     "output_type": "stream",
     "text": [
      "\n",
      "  You can now view your Streamlit app in your browser.\n",
      "\n",
      "  Local URL: http://localhost:8501\n",
      "  Network URL: http://192.168.15.6:8501\n",
      "\n"
     ]
    },
    {
     "name": "stderr",
     "output_type": "stream",
     "text": [
      "2022-04-21 14:52:25.889413: W tensorflow/stream_executor/platform/default/dso_loader.cc:64] Could not load dynamic library 'libcuda.so.1'; dlerror: libcuda.so.1: cannot open shared object file: No such file or directory\n",
      "2022-04-21 14:52:25.889468: W tensorflow/stream_executor/cuda/cuda_driver.cc:269] failed call to cuInit: UNKNOWN ERROR (303)\n",
      "2022-04-21 14:52:25.889514: I tensorflow/stream_executor/cuda/cuda_diagnostics.cc:156] kernel driver does not appear to be running on this host (hodelin-desktop): /proc/driver/nvidia/version does not exist\n",
      "2022-04-21 14:52:26.372 Compiled the loaded model, but the compiled metrics have yet to be built. `model.compile_metrics` will be empty until you train or evaluate the model.\n",
      "2022-04-21 14:52:26.730735: W tensorflow/python/util/util.cc:368] Sets are not currently considered sequences, but this may change in the future, so consider avoiding using them.\n",
      "2022-04-21 14:52:27.207 Assets written to: ram://69a28a03-184d-4c1d-a499-aa6c8ff4256c/assets\n",
      "2022-04-21 15:00:46.437 No training configuration found in save file, so the model was *not* compiled. Compile it manually.\n",
      "2022-04-21 15:09:44.003 No training configuration found in save file, so the model was *not* compiled. Compile it manually.\n",
      "2022-04-21 15:21:26.649 No training configuration found in save file, so the model was *not* compiled. Compile it manually.\n",
      "2022-04-21 15:21:43.371 No training configuration found in save file, so the model was *not* compiled. Compile it manually.\n",
      "2022-04-21 15:22:25.308 No training configuration found in save file, so the model was *not* compiled. Compile it manually.\n",
      "2022-04-21 15:22:35.179 No training configuration found in save file, so the model was *not* compiled. Compile it manually.\n",
      "2022-04-21 15:22:37.222 No training configuration found in save file, so the model was *not* compiled. Compile it manually.\n",
      "2022-04-21 15:22:42.838 No training configuration found in save file, so the model was *not* compiled. Compile it manually.\n",
      "2022-04-21 15:29:48.727 No training configuration found in save file, so the model was *not* compiled. Compile it manually.\n",
      "2022-04-21 15:34:46.343 No training configuration found in save file, so the model was *not* compiled. Compile it manually.\n"
     ]
    }
   ],
   "source": [
    "os.system('streamlit run main.py')"
   ]
  },
  {
   "cell_type": "code",
   "execution_count": null,
   "id": "f73b4084",
   "metadata": {},
   "outputs": [],
   "source": []
  }
 ],
 "metadata": {
  "kernelspec": {
   "display_name": "Python 3 (ipykernel)",
   "language": "python",
   "name": "python3"
  },
  "language_info": {
   "codemirror_mode": {
    "name": "ipython",
    "version": 3
   },
   "file_extension": ".py",
   "mimetype": "text/x-python",
   "name": "python",
   "nbconvert_exporter": "python",
   "pygments_lexer": "ipython3",
   "version": "3.8.8"
  }
 },
 "nbformat": 4,
 "nbformat_minor": 5
}
